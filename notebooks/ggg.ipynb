{
  "nbformat": 4,
  "nbformat_minor": 0,
  "metadata": {
    "colab": {
      "provenance": []
    },
    "kernelspec": {
      "name": "python3",
      "display_name": "Python 3"
    },
    "language_info": {
      "name": "python"
    }
  },
  "cells": [
    {
      "cell_type": "code",
      "source": [
        "# Dependencies\n",
        "!pip install torch_geometric\n",
        "!pip install rdkit"
      ],
      "metadata": {
        "colab": {
          "base_uri": "https://localhost:8080/"
        },
        "id": "WAXCDWoY2nWo",
        "outputId": "41ece1dd-4abb-42f9-9a5a-8acdb1d67717"
      },
      "execution_count": null,
      "outputs": [
        {
          "output_type": "stream",
          "name": "stdout",
          "text": [
            "Requirement already satisfied: torch_geometric in /usr/local/lib/python3.10/dist-packages (2.6.1)\n",
            "Requirement already satisfied: aiohttp in /usr/local/lib/python3.10/dist-packages (from torch_geometric) (3.10.10)\n",
            "Requirement already satisfied: fsspec in /usr/local/lib/python3.10/dist-packages (from torch_geometric) (2024.10.0)\n",
            "Requirement already satisfied: jinja2 in /usr/local/lib/python3.10/dist-packages (from torch_geometric) (3.1.4)\n",
            "Requirement already satisfied: numpy in /usr/local/lib/python3.10/dist-packages (from torch_geometric) (1.26.4)\n",
            "Requirement already satisfied: psutil>=5.8.0 in /usr/local/lib/python3.10/dist-packages (from torch_geometric) (5.9.5)\n",
            "Requirement already satisfied: pyparsing in /usr/local/lib/python3.10/dist-packages (from torch_geometric) (3.2.0)\n",
            "Requirement already satisfied: requests in /usr/local/lib/python3.10/dist-packages (from torch_geometric) (2.32.3)\n",
            "Requirement already satisfied: tqdm in /usr/local/lib/python3.10/dist-packages (from torch_geometric) (4.66.6)\n",
            "Requirement already satisfied: aiohappyeyeballs>=2.3.0 in /usr/local/lib/python3.10/dist-packages (from aiohttp->torch_geometric) (2.4.3)\n",
            "Requirement already satisfied: aiosignal>=1.1.2 in /usr/local/lib/python3.10/dist-packages (from aiohttp->torch_geometric) (1.3.1)\n",
            "Requirement already satisfied: attrs>=17.3.0 in /usr/local/lib/python3.10/dist-packages (from aiohttp->torch_geometric) (24.2.0)\n",
            "Requirement already satisfied: frozenlist>=1.1.1 in /usr/local/lib/python3.10/dist-packages (from aiohttp->torch_geometric) (1.5.0)\n",
            "Requirement already satisfied: multidict<7.0,>=4.5 in /usr/local/lib/python3.10/dist-packages (from aiohttp->torch_geometric) (6.1.0)\n",
            "Requirement already satisfied: yarl<2.0,>=1.12.0 in /usr/local/lib/python3.10/dist-packages (from aiohttp->torch_geometric) (1.17.1)\n",
            "Requirement already satisfied: async-timeout<5.0,>=4.0 in /usr/local/lib/python3.10/dist-packages (from aiohttp->torch_geometric) (4.0.3)\n",
            "Requirement already satisfied: MarkupSafe>=2.0 in /usr/local/lib/python3.10/dist-packages (from jinja2->torch_geometric) (3.0.2)\n",
            "Requirement already satisfied: charset-normalizer<4,>=2 in /usr/local/lib/python3.10/dist-packages (from requests->torch_geometric) (3.4.0)\n",
            "Requirement already satisfied: idna<4,>=2.5 in /usr/local/lib/python3.10/dist-packages (from requests->torch_geometric) (3.10)\n",
            "Requirement already satisfied: urllib3<3,>=1.21.1 in /usr/local/lib/python3.10/dist-packages (from requests->torch_geometric) (2.2.3)\n",
            "Requirement already satisfied: certifi>=2017.4.17 in /usr/local/lib/python3.10/dist-packages (from requests->torch_geometric) (2024.8.30)\n",
            "Requirement already satisfied: typing-extensions>=4.1.0 in /usr/local/lib/python3.10/dist-packages (from multidict<7.0,>=4.5->aiohttp->torch_geometric) (4.12.2)\n",
            "Requirement already satisfied: propcache>=0.2.0 in /usr/local/lib/python3.10/dist-packages (from yarl<2.0,>=1.12.0->aiohttp->torch_geometric) (0.2.0)\n",
            "Requirement already satisfied: rdkit in /usr/local/lib/python3.10/dist-packages (2024.3.6)\n",
            "Requirement already satisfied: numpy in /usr/local/lib/python3.10/dist-packages (from rdkit) (1.26.4)\n",
            "Requirement already satisfied: Pillow in /usr/local/lib/python3.10/dist-packages (from rdkit) (11.0.0)\n"
          ]
        }
      ]
    },
    {
      "cell_type": "code",
      "source": [
        "# Imports\n",
        "import torch\n",
        "from torch_geometric.data import DataLoader\n",
        "from torch_geometric.nn import GCNConv\n",
        "import torch.nn.functional as F\n",
        "import pandas as pd\n",
        "import random as rd\n",
        "import os\n",
        "from rdkit import Chem\n",
        "from rdkit.Chem import rdmolops\n",
        "from google.colab import drive\n",
        "from torch_geometric.loader import DataLoader\n",
        "from torch_geometric.data import Data\n"
      ],
      "metadata": {
        "id": "zC5gqtR52z96"
      },
      "execution_count": null,
      "outputs": []
    },
    {
      "cell_type": "code",
      "source": [
        "drive.mount('/content/drive')"
      ],
      "metadata": {
        "colab": {
          "base_uri": "https://localhost:8080/"
        },
        "id": "rolW-JqwgbNA",
        "outputId": "af09383b-082c-4d58-c3fa-fca751f0697c"
      },
      "execution_count": null,
      "outputs": [
        {
          "output_type": "stream",
          "name": "stdout",
          "text": [
            "Drive already mounted at /content/drive; to attempt to forcibly remount, call drive.mount(\"/content/drive\", force_remount=True).\n"
          ]
        }
      ]
    },
    {
      "cell_type": "markdown",
      "source": [
        "## Load the data\n",
        "This code cell connects to my previously connected private google drive and loads 1000 benign function call graphs and 1000 malicious ones from the artemis family, labels them accordingly and adds them to a list"
      ],
      "metadata": {
        "id": "MRU0PnqloKFw"
      }
    },
    {
      "cell_type": "code",
      "source": [
        "def read_edgelist_to_graph(filepath, label):\n",
        "    try:\n",
        "        edge_index = []\n",
        "        with open(filepath, 'r') as f:\n",
        "            for line in f:\n",
        "                if line.startswith('#'):\n",
        "                    continue\n",
        "                source, target = map(int, line.strip().split())\n",
        "                edge_index.append([source, target])\n",
        "\n",
        "        edge_index = torch.tensor(edge_index, dtype=torch.long).t().contiguous()\n",
        "        x = torch.ones(edge_index.max().item() + 1, 1, dtype=torch.float)\n",
        "        data = Data(x=x, edge_index=edge_index, y=torch.tensor([label]))\n",
        "        return data\n",
        "    except Exception as e:\n",
        "        print(f\"Error reading file {filepath}: {e}\")\n",
        "        return None\n",
        "\n",
        "benign_dir = '/content/drive/My Drive/malnet/benign/'\n",
        "artemis_dir = '/content/drive/My Drive/malnet/artemis/'\n",
        "\n",
        "data_list = []\n",
        "\n",
        "# Load graphs from the 'benign' directory\n",
        "for filename in os.listdir(benign_dir):\n",
        "    if filename.endswith(\".edgelist\"):\n",
        "        filepath = os.path.join(benign_dir, filename)\n",
        "        # label 0 is non malicious\n",
        "        graph_data = read_edgelist_to_graph(filepath, 0)\n",
        "        if graph_data:\n",
        "            data_list.append(graph_data)\n",
        "\n",
        "# Load graphs from the 'artemis' directory\n",
        "for filename in os.listdir(artemis_dir):\n",
        "    if filename.endswith(\".edgelist\"):\n",
        "        filepath = os.path.join(artemis_dir, filename)\n",
        "        # label 1 is malicious\n",
        "        graph_data = read_edgelist_to_graph(filepath, 1)\n",
        "        if graph_data:\n",
        "            data_list.append(graph_data)\n",
        "\n",
        "print(f\"Loaded {len(data_list)} graphs.\")"
      ],
      "metadata": {
        "colab": {
          "base_uri": "https://localhost:8080/"
        },
        "id": "2YUi2hlFfPtu",
        "outputId": "8c5b447e-73af-45a4-e003-25bf778ebe49"
      },
      "execution_count": null,
      "outputs": [
        {
          "output_type": "stream",
          "name": "stdout",
          "text": [
            "Loaded 2000 graphs.\n"
          ]
        }
      ]
    },
    {
      "cell_type": "markdown",
      "source": [
        "## Define a data loader"
      ],
      "metadata": {
        "id": "C8Q8p6yWo6V-"
      }
    },
    {
      "cell_type": "code",
      "source": [
        "# Shuffle the data list\n",
        "rd.shuffle(data_list)\n",
        "\n",
        "# Define the split ratios\n",
        "train_ratio = 0.8\n",
        "val_ratio = 0.1\n",
        "test_ratio = 0.1\n",
        "\n",
        "# Calculate the split indices\n",
        "train_size = int(len(data_list) * train_ratio)\n",
        "val_size = int(len(data_list) * val_ratio)\n",
        "test_size = len(data_list) - train_size - val_size\n",
        "\n",
        "# Split the data\n",
        "train_data = data_list[:train_size]\n",
        "val_data = data_list[train_size:train_size + val_size]\n",
        "test_data = data_list[train_size + val_size:]\n",
        "\n",
        "# Create data loaders\n",
        "train_loader = DataLoader(train_data, batch_size=32, shuffle=True)\n",
        "val_loader = DataLoader(val_data, batch_size=32, shuffle=False)\n",
        "test_loader = DataLoader(test_data, batch_size=32, shuffle=False)\n",
        "\n",
        "print(f\"Train size: {len(train_data)}\")\n",
        "print(f\"Validation size: {len(val_data)}\")\n",
        "print(f\"Test size: {len(test_data)}\")"
      ],
      "metadata": {
        "colab": {
          "base_uri": "https://localhost:8080/"
        },
        "id": "WDg7FIvBoAJ2",
        "outputId": "04e38dbb-44f2-4245-c40e-60feade38482"
      },
      "execution_count": null,
      "outputs": [
        {
          "output_type": "stream",
          "name": "stdout",
          "text": [
            "Train size: 1600\n",
            "Validation size: 200\n",
            "Test size: 200\n"
          ]
        }
      ]
    },
    {
      "cell_type": "markdown",
      "source": [
        "## Define a GNN model"
      ],
      "metadata": {
        "id": "bkRfqkk1pAhp"
      }
    },
    {
      "cell_type": "code",
      "source": [
        "class GCN(torch.nn.Module):\n",
        "    def __init__(self, hidden_channels):\n",
        "        super(GCN, self).__init__()\n",
        "        torch.manual_seed(12345)\n",
        "        self.conv1 = GCNConv(1, hidden_channels)\n",
        "        self.conv2 = GCNConv(hidden_channels, hidden_channels)\n",
        "        self.conv3 = GCNConv(hidden_channels, hidden_channels)\n",
        "        self.lin = torch.nn.Linear(hidden_channels, 2)\n",
        "\n",
        "    def forward(self, x, edge_index, batch):\n",
        "        x = self.conv1(x, edge_index)\n",
        "        x = x.relu()\n",
        "        x = self.conv2(x, edge_index)\n",
        "        x = x.relu()\n",
        "        x = self.conv3(x, edge_index)\n",
        "\n",
        "        x = torch.nn.functional.global_mean_pool(x, batch)\n",
        "        x = self.lin(x)\n",
        "        return x"
      ],
      "metadata": {
        "id": "nujGMyE4oz8q"
      },
      "execution_count": null,
      "outputs": []
    },
    {
      "cell_type": "markdown",
      "source": [
        "## Train the Model"
      ],
      "metadata": {
        "id": "UnFeMvWopDAk"
      }
    },
    {
      "cell_type": "code",
      "source": [],
      "metadata": {
        "id": "b6dJL0nnpEpm"
      },
      "execution_count": null,
      "outputs": []
    },
    {
      "cell_type": "markdown",
      "source": [
        "## Validation"
      ],
      "metadata": {
        "id": "0OgSZYo5pJAi"
      }
    },
    {
      "cell_type": "code",
      "source": [],
      "metadata": {
        "id": "IU2c_LeypJ1H"
      },
      "execution_count": null,
      "outputs": []
    }
  ]
}