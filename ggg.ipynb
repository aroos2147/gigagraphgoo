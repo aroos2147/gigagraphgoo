{
  "nbformat": 4,
  "nbformat_minor": 0,
  "metadata": {
    "colab": {
      "provenance": [],
      "gpuType": "V28",
      "authorship_tag": "ABX9TyNv/TQSZ8PiGJtS79gC4BcR",
      "include_colab_link": true
    },
    "kernelspec": {
      "name": "python3",
      "display_name": "Python 3"
    },
    "language_info": {
      "name": "python"
    },
    "accelerator": "TPU"
  },
  "cells": [
    {
      "cell_type": "markdown",
      "metadata": {
        "id": "view-in-github",
        "colab_type": "text"
      },
      "source": [
        "<a href=\"https://colab.research.google.com/github/aroos2147/gigagraphgoo/blob/main/ggg.ipynb\" target=\"_parent\"><img src=\"https://colab.research.google.com/assets/colab-badge.svg\" alt=\"Open In Colab\"/></a>"
      ]
    },
    {
      "cell_type": "markdown",
      "source": [
        "# Giga Graph Goo"
      ],
      "metadata": {
        "id": "KpG2a_VCA1TG"
      }
    },
    {
      "cell_type": "markdown",
      "source": [
        "## Setup\n",
        "In this section we prepare the environment by installing the necessary packages and importing the required libraries"
      ],
      "metadata": {
        "id": "HgVj3GF9A4LC"
      }
    },
    {
      "cell_type": "code",
      "source": [
        "# Dependencies\n",
        "!pip install torch_geometric\n",
        "!pip install rdkit"
      ],
      "metadata": {
        "colab": {
          "base_uri": "https://localhost:8080/"
        },
        "id": "WAXCDWoY2nWo",
        "outputId": "434d870e-bffb-4dd4-dbc3-a6b97ab0dbf8"
      },
      "execution_count": 7,
      "outputs": [
        {
          "output_type": "stream",
          "name": "stdout",
          "text": [
            "Requirement already satisfied: torch_geometric in /usr/local/lib/python3.10/dist-packages (2.6.1)\n",
            "Requirement already satisfied: aiohttp in /usr/local/lib/python3.10/dist-packages (from torch_geometric) (3.11.9)\n",
            "Requirement already satisfied: fsspec in /usr/local/lib/python3.10/dist-packages (from torch_geometric) (2024.10.0)\n",
            "Requirement already satisfied: jinja2 in /usr/local/lib/python3.10/dist-packages (from torch_geometric) (3.1.4)\n",
            "Requirement already satisfied: numpy in /usr/local/lib/python3.10/dist-packages (from torch_geometric) (1.26.4)\n",
            "Requirement already satisfied: psutil>=5.8.0 in /usr/local/lib/python3.10/dist-packages (from torch_geometric) (5.9.5)\n",
            "Requirement already satisfied: pyparsing in /usr/local/lib/python3.10/dist-packages (from torch_geometric) (3.2.0)\n",
            "Requirement already satisfied: requests in /usr/local/lib/python3.10/dist-packages (from torch_geometric) (2.32.3)\n",
            "Requirement already satisfied: tqdm in /usr/local/lib/python3.10/dist-packages (from torch_geometric) (4.66.6)\n",
            "Requirement already satisfied: aiohappyeyeballs>=2.3.0 in /usr/local/lib/python3.10/dist-packages (from aiohttp->torch_geometric) (2.4.4)\n",
            "Requirement already satisfied: aiosignal>=1.1.2 in /usr/local/lib/python3.10/dist-packages (from aiohttp->torch_geometric) (1.3.1)\n",
            "Requirement already satisfied: async-timeout<6.0,>=4.0 in /usr/local/lib/python3.10/dist-packages (from aiohttp->torch_geometric) (4.0.3)\n",
            "Requirement already satisfied: attrs>=17.3.0 in /usr/local/lib/python3.10/dist-packages (from aiohttp->torch_geometric) (24.2.0)\n",
            "Requirement already satisfied: frozenlist>=1.1.1 in /usr/local/lib/python3.10/dist-packages (from aiohttp->torch_geometric) (1.5.0)\n",
            "Requirement already satisfied: multidict<7.0,>=4.5 in /usr/local/lib/python3.10/dist-packages (from aiohttp->torch_geometric) (6.1.0)\n",
            "Requirement already satisfied: propcache>=0.2.0 in /usr/local/lib/python3.10/dist-packages (from aiohttp->torch_geometric) (0.2.1)\n",
            "Requirement already satisfied: yarl<2.0,>=1.17.0 in /usr/local/lib/python3.10/dist-packages (from aiohttp->torch_geometric) (1.18.3)\n",
            "Requirement already satisfied: MarkupSafe>=2.0 in /usr/local/lib/python3.10/dist-packages (from jinja2->torch_geometric) (3.0.2)\n",
            "Requirement already satisfied: charset-normalizer<4,>=2 in /usr/local/lib/python3.10/dist-packages (from requests->torch_geometric) (3.4.0)\n",
            "Requirement already satisfied: idna<4,>=2.5 in /usr/local/lib/python3.10/dist-packages (from requests->torch_geometric) (3.10)\n",
            "Requirement already satisfied: urllib3<3,>=1.21.1 in /usr/local/lib/python3.10/dist-packages (from requests->torch_geometric) (2.2.3)\n",
            "Requirement already satisfied: certifi>=2017.4.17 in /usr/local/lib/python3.10/dist-packages (from requests->torch_geometric) (2024.8.30)\n",
            "Requirement already satisfied: typing-extensions>=4.1.0 in /usr/local/lib/python3.10/dist-packages (from multidict<7.0,>=4.5->aiohttp->torch_geometric) (4.12.2)\n",
            "Requirement already satisfied: rdkit in /usr/local/lib/python3.10/dist-packages (2024.3.6)\n",
            "Requirement already satisfied: numpy in /usr/local/lib/python3.10/dist-packages (from rdkit) (1.26.4)\n",
            "Requirement already satisfied: Pillow in /usr/local/lib/python3.10/dist-packages (from rdkit) (11.0.0)\n"
          ]
        }
      ]
    },
    {
      "cell_type": "code",
      "source": [
        "# Imports\n",
        "import torch\n",
        "from torch_geometric.data import DataLoader\n",
        "from torch_geometric.nn import GCNConv, global_mean_pool\n",
        "import torch.nn.functional as F\n",
        "import torch.nn as nn\n",
        "import pandas as pd\n",
        "import random as rd\n",
        "import os\n",
        "from rdkit import Chem\n",
        "from rdkit.Chem import rdmolops\n",
        "from google.colab import drive\n",
        "from torch_geometric.loader import DataLoader\n",
        "from torch_geometric.data import Data\n",
        "from sklearn.model_selection import ParameterGrid\n"
      ],
      "metadata": {
        "id": "zC5gqtR52z96"
      },
      "execution_count": 8,
      "outputs": []
    },
    {
      "cell_type": "markdown",
      "source": [
        "## Get the data\n",
        "We will be working with a subset of the Malnet dataset. The subset consists of the function call graphs of benign android applications and of android applications associated with the Artemis trojan. The data is stored on a private google drive."
      ],
      "metadata": {
        "id": "IgS2T0yeAa9X"
      }
    },
    {
      "cell_type": "code",
      "source": [
        "drive.mount('/content/drive')"
      ],
      "metadata": {
        "colab": {
          "base_uri": "https://localhost:8080/"
        },
        "id": "rolW-JqwgbNA",
        "outputId": "03ce36a9-a2c3-40c6-f201-56e1759eceb9"
      },
      "execution_count": 9,
      "outputs": [
        {
          "output_type": "stream",
          "name": "stdout",
          "text": [
            "Mounted at /content/drive\n"
          ]
        }
      ]
    },
    {
      "cell_type": "code",
      "source": [
        "def read_edgelist_to_graph(filepath, label):\n",
        "    try:\n",
        "        edge_index = []\n",
        "        with open(filepath, 'r') as f:\n",
        "            for line in f:\n",
        "                if line.startswith('#'):\n",
        "                    continue\n",
        "                source, target = map(int, line.strip().split())\n",
        "                edge_index.append([source, target])\n",
        "\n",
        "        edge_index = torch.tensor(edge_index, dtype=torch.long).t().contiguous()\n",
        "        x = torch.ones(edge_index.max().item() + 1, 1, dtype=torch.float)\n",
        "        data = Data(x=x, edge_index=edge_index, y=torch.tensor([label]))\n",
        "        return data\n",
        "    except Exception as e:\n",
        "        print(f\"Error reading file {filepath}: {e}\")\n",
        "        return None\n",
        "\n",
        "benign_dir = '/content/drive/My Drive/malnet/benign/'\n",
        "artemis_dir = '/content/drive/My Drive/malnet/artemis/'\n",
        "\n",
        "data_list = []\n",
        "\n",
        "# Load graphs from the 'benign' directory\n",
        "for filename in os.listdir(benign_dir):\n",
        "    if filename.endswith(\".edgelist\"):\n",
        "        filepath = os.path.join(benign_dir, filename)\n",
        "        # label 0 is non malicious\n",
        "        graph_data = read_edgelist_to_graph(filepath, 0)\n",
        "        if graph_data:\n",
        "            data_list.append(graph_data)\n",
        "\n",
        "# Load graphs from the 'artemis' directory\n",
        "for filename in os.listdir(artemis_dir):\n",
        "    if filename.endswith(\".edgelist\"):\n",
        "        filepath = os.path.join(artemis_dir, filename)\n",
        "        # label 1 is malicious\n",
        "        graph_data = read_edgelist_to_graph(filepath, 1)\n",
        "        if graph_data:\n",
        "            data_list.append(graph_data)\n",
        "\n",
        "print(f\"Loaded {len(data_list)} graphs.\")"
      ],
      "metadata": {
        "colab": {
          "base_uri": "https://localhost:8080/"
        },
        "id": "2YUi2hlFfPtu",
        "outputId": "37f7db82-69a6-4a44-b684-7a3c3e12948f"
      },
      "execution_count": 10,
      "outputs": [
        {
          "output_type": "stream",
          "name": "stdout",
          "text": [
            "Loaded 2000 graphs.\n"
          ]
        }
      ]
    },
    {
      "cell_type": "markdown",
      "source": [
        "## Prepare the data\n",
        "The data is being shuffeled and split into suitable train, validate and test splits which are used in preparing, training and evaluating the performance of the model."
      ],
      "metadata": {
        "id": "C8Q8p6yWo6V-"
      }
    },
    {
      "cell_type": "code",
      "source": [
        "# Shuffle the data list\n",
        "rd.shuffle(data_list)\n",
        "\n",
        "# Define the split ratios\n",
        "train_ratio = 0.8\n",
        "val_ratio = 0.1\n",
        "test_ratio = 0.1\n",
        "\n",
        "# Calculate the split indices\n",
        "train_size = int(len(data_list) * train_ratio)\n",
        "val_size = int(len(data_list) * val_ratio)\n",
        "test_size = len(data_list) - train_size - val_size\n",
        "\n",
        "# Split the data\n",
        "train_data = data_list[:train_size]\n",
        "val_data = data_list[train_size:train_size + val_size]\n",
        "test_data = data_list[train_size + val_size:]\n",
        "\n",
        "# Create data loaders\n",
        "train_loader = DataLoader(train_data, batch_size=32, shuffle=True)\n",
        "val_loader = DataLoader(val_data, batch_size=32, shuffle=False)\n",
        "test_loader = DataLoader(test_data, batch_size=32, shuffle=False)\n",
        "\n",
        "print(f\"Train size: {len(train_data)}\")\n",
        "print(f\"Validation size: {len(val_data)}\")\n",
        "print(f\"Test size: {len(test_data)}\")"
      ],
      "metadata": {
        "colab": {
          "base_uri": "https://localhost:8080/"
        },
        "id": "WDg7FIvBoAJ2",
        "outputId": "2ad26b39-2c79-46d6-98b5-dcb7529ad9e2"
      },
      "execution_count": 11,
      "outputs": [
        {
          "output_type": "stream",
          "name": "stdout",
          "text": [
            "Train size: 1600\n",
            "Validation size: 200\n",
            "Test size: 200\n"
          ]
        }
      ]
    },
    {
      "cell_type": "markdown",
      "source": [
        "## Define a Model\n",
        "In the following we define a generic graph convolutional network, the hyperparameters of which are parameterized in the constructor. This allows us to perform a grid search over a wide range of hyperparamter options in order to find a good combination for the final model structure. This is done using the training set to train a model for each hyperparameter combination and using the validation set to test the best performing model. The hyperparameter combnation of the best model is then used in training the final classifier."
      ],
      "metadata": {
        "id": "bkRfqkk1pAhp"
      }
    },
    {
      "cell_type": "code",
      "source": [
        "class GCNClassifier(nn.Module):\n",
        "    def __init__(self, hidden_dim, num_layers, dropout, activation=F.relu):\n",
        "        super(GCNClassifier, self).__init__()\n",
        "\n",
        "        self.dropout = dropout\n",
        "        self.activation = activation\n",
        "\n",
        "        # Initialize GCN layers\n",
        "        self.layers = nn.ModuleList()\n",
        "        self.layers.append(GCNConv(hidden_dim, hidden_dim))  # First layer\n",
        "        for _ in range(num_layers - 1):\n",
        "            self.layers.append(GCNConv(hidden_dim, hidden_dim))  # Additional layers\n",
        "\n",
        "        # Output layer\n",
        "        self.fc = nn.Linear(hidden_dim, 1)\n",
        "\n",
        "    def forward(self, edge_index, batch, num_nodes):\n",
        "        node_embeddings = nn.Parameter(torch.randn(num_nodes, self.layers[0].in_channels))  # Size: (num_nodes, hidden_dim)\n",
        "        x = node_embeddings\n",
        "\n",
        "        # Apply GCN layers\n",
        "        for layer in self.layers:\n",
        "            x = layer(x, edge_index)\n",
        "            x = self.activation(x)\n",
        "            x = F.dropout(x, p=self.dropout, training=self.training)\n",
        "\n",
        "        # Apply global mean pooling to get graph-level representation\n",
        "        x = global_mean_pool(x, batch)\n",
        "\n",
        "        # Output layer\n",
        "        x = self.fc(x)\n",
        "        return x"
      ],
      "metadata": {
        "id": "nujGMyE4oz8q"
      },
      "execution_count": 12,
      "outputs": []
    },
    {
      "cell_type": "code",
      "source": [
        "def train(model, train_loader, val_loader, optimizer, criterion, device, patience=5, epochs=100):\n",
        "    model.train()  # Set the model to training mode\n",
        "    total_loss = 0\n",
        "    best_val_loss = float('inf')  # Initialize the best validation loss as infinity\n",
        "    epochs_without_improvement = 0  # Track how many epochs have passed without improvement\n",
        "    best_model_state = None  # To save the best model state\n",
        "\n",
        "    for epoch in range(epochs):\n",
        "        model.train()  # Ensure the model is in training mode\n",
        "        total_loss = 0\n",
        "\n",
        "        for data in train_loader:\n",
        "            data = data.to(device)  # Move the data to the appropriate device (GPU or CPU)\n",
        "            optimizer.zero_grad()  # Zero the gradients before the backward pass\n",
        "\n",
        "            num_nodes = data.num_nodes  # Get the number of nodes in the current graph\n",
        "\n",
        "            # Forward pass\n",
        "            out = model(data.edge_index, data.batch, num_nodes)\n",
        "\n",
        "            # Compute loss (ensure the output is squeezed to match the shape of data.y)\n",
        "            loss = criterion(out.squeeze(), data.y.float().to(device))\n",
        "            loss.backward()  # Backward pass to calculate gradients\n",
        "\n",
        "            optimizer.step()  # Update model parameters\n",
        "\n",
        "            total_loss += loss.item() * data.num_graphs  # Accumulate the loss\n",
        "\n",
        "        avg_train_loss = total_loss / len(train_loader.dataset)  # Compute average loss per graph\n",
        "\n",
        "        # Validation phase\n",
        "        model.eval()  # Set the model to evaluation mode\n",
        "        val_loss = 0\n",
        "        with torch.no_grad():\n",
        "            for data in val_loader:\n",
        "                data = data.to(device)\n",
        "                num_nodes = data.num_nodes  # Get the number of nodes for the validation graph\n",
        "                out = model(data.edge_index, data.batch, num_nodes)\n",
        "                loss = criterion(out.squeeze(), data.y.float().to(device))\n",
        "                val_loss += loss.item() * data.num_graphs\n",
        "\n",
        "        avg_val_loss = val_loss / len(val_loader.dataset)  # Compute average validation loss\n",
        "\n",
        "        # Early Stopping Check\n",
        "        if avg_val_loss < best_val_loss:\n",
        "            best_val_loss = avg_val_loss\n",
        "            epochs_without_improvement = 0\n",
        "            best_model_state = model.state_dict()  # Save the best model state\n",
        "        else:\n",
        "            epochs_without_improvement += 1\n",
        "\n",
        "        # Stop early if no improvement for 'patience' epochs\n",
        "        if epochs_without_improvement >= patience:\n",
        "            print(f\"Early stopping triggered after {epoch + 1} epochs\")\n",
        "            model.load_state_dict(best_model_state)  # Restore the best model state\n",
        "            break\n",
        "\n",
        "        print(f\"Epoch {epoch + 1}/{epochs} - Train Loss: {avg_train_loss:.4f} - Val Loss: {avg_val_loss:.4f}\")\n",
        "\n",
        "    return model"
      ],
      "metadata": {
        "id": "ZL02_kBuDywV"
      },
      "execution_count": 23,
      "outputs": []
    },
    {
      "cell_type": "code",
      "source": [
        "def evaluate(model, data_loader, criterion, device):\n",
        "    model.eval()  # Set the model to evaluation mode\n",
        "    total_loss = 0\n",
        "    correct = 0\n",
        "    total = 0\n",
        "\n",
        "    with torch.no_grad():\n",
        "        for data in data_loader:\n",
        "            data = data.to(device)\n",
        "            num_nodes = data.num_nodes  # Get the number of nodes for the current graph\n",
        "\n",
        "            out = model(data.edge_index, data.batch, num_nodes)\n",
        "            loss = criterion(out.squeeze(), data.y.float().to(device))\n",
        "            total_loss += loss.item() * data.num_graphs  # Accumulate loss\n",
        "\n",
        "            # Binary classification accuracy\n",
        "            pred = torch.sigmoid(out.squeeze()) > 0.5\n",
        "            correct += pred.eq(data.y.to(device)).sum().item()\n",
        "            total += data.num_graphs\n",
        "\n",
        "    avg_loss = total_loss / len(data_loader.dataset)\n",
        "    accuracy = correct / total\n",
        "    return avg_loss, accuracy"
      ],
      "metadata": {
        "id": "7O3tn3OqD76-"
      },
      "execution_count": 14,
      "outputs": []
    },
    {
      "cell_type": "code",
      "source": [
        "def train_model(model, train_loader, val_loader, epochs, learning_rate, dropout, device):\n",
        "    optimizer = torch.optim.Adam(model.parameters(), lr=learning_rate)\n",
        "    criterion = torch.nn.BCEWithLogitsLoss()\n",
        "\n",
        "    model = model.to(device)\n",
        "\n",
        "    for epoch in range(epochs):\n",
        "        train_loss = train(model, train_loader, optimizer, criterion, device)\n",
        "        val_loss, val_accuracy = evaluate(model, val_loader, criterion, device)\n",
        "\n",
        "    test_loss, test_accuracy = evaluate(model, test_loader, criterion, device)\n",
        "    print(f'Validation Loss: {test_loss:.4f}, Validation Accuracy: {test_accuracy:.4f}')"
      ],
      "metadata": {
        "id": "DX9gF5jkE8X_"
      },
      "execution_count": 15,
      "outputs": []
    },
    {
      "cell_type": "code",
      "source": [
        "def grid_search(train_loader, val_loader, test_loader, device, patience=10):\n",
        "    # Define hyperparameter grid\n",
        "    param_grid = {\n",
        "        'hidden_dim': [64],\n",
        "        'num_layers': [2],\n",
        "        'dropout': [0.5, 0.3],\n",
        "        'learning_rate': [0.001]\n",
        "    }\n",
        "\n",
        "    # Initialize grid search\n",
        "    best_model = None\n",
        "    best_val_loss = float('inf')  # Initialize best validation loss as infinity\n",
        "    best_params = None\n",
        "\n",
        "    # Perform grid search\n",
        "    for params in ParameterGrid(param_grid):\n",
        "        print(f\"Training with parameters: {params}\")\n",
        "\n",
        "        # Initialize the model with the current hyperparameters\n",
        "        model = GCNClassifier(\n",
        "            hidden_dim=params['hidden_dim'],\n",
        "            num_layers=params['num_layers'],\n",
        "            dropout=params['dropout'],\n",
        "            activation=F.relu\n",
        "        ).to(device)\n",
        "\n",
        "        # Optimizer and loss function\n",
        "        optimizer = torch.optim.Adam(model.parameters(), lr=params['learning_rate'])\n",
        "        criterion = torch.nn.BCEWithLogitsLoss()\n",
        "\n",
        "        # Train the model using early stopping with the train and validation sets\n",
        "        model = train(model, train_loader, val_loader, optimizer, criterion, device, patience)\n",
        "\n",
        "        # Evaluate on the validation set\n",
        "        val_loss, _ = evaluate(model, val_loader, criterion, device)\n",
        "\n",
        "        # Save the best model based on validation loss\n",
        "        if val_loss < best_val_loss:\n",
        "            best_val_loss = val_loss\n",
        "            best_model = model\n",
        "            best_params = params\n",
        "\n",
        "    # Final evaluation on the test set using the best model\n",
        "    test_loss, test_accuracy = evaluate(best_model, test_loader, criterion, device)\n",
        "    print(f\"Final Test Loss: {test_loss:.4f}, Test Accuracy: {test_accuracy:.4f}\")\n",
        "\n",
        "    return best_model, best_params"
      ],
      "metadata": {
        "id": "BBsOOIaBFL6z"
      },
      "execution_count": 16,
      "outputs": []
    },
    {
      "cell_type": "code",
      "source": [
        "device = torch.device(\"cuda\" if torch.cuda.is_available() else \"cpu\")\n",
        "\n",
        "best_model, best_params = grid_search(train_loader, val_loader, test_loader, device, patience=10)\n",
        "print(f\"Best Hyperparameters: {best_params}\")\n"
      ],
      "metadata": {
        "colab": {
          "base_uri": "https://localhost:8080/"
        },
        "id": "WqaHEuxzFUbx",
        "outputId": "f541ba7e-2ca7-4a3e-9ade-e819fc4f779c"
      },
      "execution_count": 11,
      "outputs": [
        {
          "output_type": "stream",
          "name": "stdout",
          "text": [
            "Training with parameters: {'dropout': 0.5, 'hidden_dim': 64, 'learning_rate': 0.001, 'num_layers': 2}\n",
            "Epoch 1/50 - Train Loss: 0.6924 - Val Loss: 0.6913\n",
            "Epoch 2/50 - Train Loss: 0.6929 - Val Loss: 0.6912\n",
            "Epoch 3/50 - Train Loss: 0.6881 - Val Loss: 0.6872\n",
            "Epoch 4/50 - Train Loss: 0.6887 - Val Loss: 0.6860\n",
            "Epoch 5/50 - Train Loss: 0.6882 - Val Loss: 0.6878\n",
            "Epoch 6/50 - Train Loss: 0.6886 - Val Loss: 0.6845\n",
            "Epoch 7/50 - Train Loss: 0.6883 - Val Loss: 0.6881\n",
            "Epoch 8/50 - Train Loss: 0.6864 - Val Loss: 0.6830\n",
            "Epoch 9/50 - Train Loss: 0.6831 - Val Loss: 0.6826\n",
            "Epoch 10/50 - Train Loss: 0.6825 - Val Loss: 0.6921\n",
            "Epoch 11/50 - Train Loss: 0.6827 - Val Loss: 0.6825\n",
            "Epoch 12/50 - Train Loss: 0.6799 - Val Loss: 0.6857\n",
            "Epoch 13/50 - Train Loss: 0.6790 - Val Loss: 0.6866\n",
            "Epoch 14/50 - Train Loss: 0.6791 - Val Loss: 0.6784\n",
            "Epoch 15/50 - Train Loss: 0.6768 - Val Loss: 0.6739\n",
            "Epoch 16/50 - Train Loss: 0.6744 - Val Loss: 0.6800\n",
            "Epoch 17/50 - Train Loss: 0.6711 - Val Loss: 0.6804\n",
            "Epoch 18/50 - Train Loss: 0.6682 - Val Loss: 0.6668\n",
            "Epoch 19/50 - Train Loss: 0.6710 - Val Loss: 0.6644\n",
            "Epoch 20/50 - Train Loss: 0.6603 - Val Loss: 0.6668\n",
            "Epoch 21/50 - Train Loss: 0.6624 - Val Loss: 0.6570\n",
            "Epoch 22/50 - Train Loss: 0.6620 - Val Loss: 0.6758\n",
            "Epoch 23/50 - Train Loss: 0.6641 - Val Loss: 0.6559\n",
            "Epoch 24/50 - Train Loss: 0.6547 - Val Loss: 0.6596\n",
            "Epoch 25/50 - Train Loss: 0.6584 - Val Loss: 0.6615\n",
            "Epoch 26/50 - Train Loss: 0.6536 - Val Loss: 0.6577\n",
            "Epoch 27/50 - Train Loss: 0.6474 - Val Loss: 0.6427\n",
            "Epoch 28/50 - Train Loss: 0.6434 - Val Loss: 0.6567\n",
            "Epoch 29/50 - Train Loss: 0.6415 - Val Loss: 0.6458\n",
            "Epoch 30/50 - Train Loss: 0.6443 - Val Loss: 0.6436\n",
            "Epoch 31/50 - Train Loss: 0.6352 - Val Loss: 0.6369\n",
            "Epoch 32/50 - Train Loss: 0.6299 - Val Loss: 0.6380\n",
            "Epoch 33/50 - Train Loss: 0.6315 - Val Loss: 0.6704\n",
            "Epoch 34/50 - Train Loss: 0.6299 - Val Loss: 0.6314\n",
            "Epoch 35/50 - Train Loss: 0.6212 - Val Loss: 0.6215\n",
            "Epoch 36/50 - Train Loss: 0.6285 - Val Loss: 0.6310\n",
            "Epoch 37/50 - Train Loss: 0.6250 - Val Loss: 0.6287\n",
            "Epoch 38/50 - Train Loss: 0.6200 - Val Loss: 0.6229\n",
            "Epoch 39/50 - Train Loss: 0.6152 - Val Loss: 0.6251\n",
            "Epoch 40/50 - Train Loss: 0.6168 - Val Loss: 0.6167\n",
            "Epoch 41/50 - Train Loss: 0.6146 - Val Loss: 0.6187\n",
            "Epoch 42/50 - Train Loss: 0.6133 - Val Loss: 0.6148\n",
            "Epoch 43/50 - Train Loss: 0.6066 - Val Loss: 0.6445\n",
            "Epoch 44/50 - Train Loss: 0.6170 - Val Loss: 0.6528\n",
            "Epoch 45/50 - Train Loss: 0.6126 - Val Loss: 0.6195\n",
            "Epoch 46/50 - Train Loss: 0.6054 - Val Loss: 0.6220\n",
            "Epoch 47/50 - Train Loss: 0.6010 - Val Loss: 0.5961\n",
            "Epoch 48/50 - Train Loss: 0.6030 - Val Loss: 0.6069\n",
            "Epoch 49/50 - Train Loss: 0.5864 - Val Loss: 0.6167\n",
            "Epoch 50/50 - Train Loss: 0.5990 - Val Loss: 0.5982\n",
            "Training with parameters: {'dropout': 0.3, 'hidden_dim': 64, 'learning_rate': 0.001, 'num_layers': 2}\n",
            "Epoch 1/50 - Train Loss: 0.6932 - Val Loss: 0.6912\n",
            "Epoch 2/50 - Train Loss: 0.6935 - Val Loss: 0.6927\n",
            "Epoch 3/50 - Train Loss: 0.6917 - Val Loss: 0.6902\n",
            "Epoch 4/50 - Train Loss: 0.6898 - Val Loss: 0.6908\n",
            "Epoch 5/50 - Train Loss: 0.6884 - Val Loss: 0.6893\n",
            "Epoch 6/50 - Train Loss: 0.6887 - Val Loss: 0.6888\n",
            "Epoch 7/50 - Train Loss: 0.6881 - Val Loss: 0.6852\n",
            "Epoch 8/50 - Train Loss: 0.6843 - Val Loss: 0.6804\n",
            "Epoch 9/50 - Train Loss: 0.6845 - Val Loss: 0.6941\n",
            "Epoch 10/50 - Train Loss: 0.6844 - Val Loss: 0.6821\n",
            "Epoch 11/50 - Train Loss: 0.6839 - Val Loss: 0.6861\n",
            "Epoch 12/50 - Train Loss: 0.6832 - Val Loss: 0.6806\n",
            "Epoch 13/50 - Train Loss: 0.6789 - Val Loss: 0.6816\n",
            "Epoch 14/50 - Train Loss: 0.6777 - Val Loss: 0.6751\n",
            "Epoch 15/50 - Train Loss: 0.6770 - Val Loss: 0.6785\n",
            "Epoch 16/50 - Train Loss: 0.6725 - Val Loss: 0.6703\n",
            "Epoch 17/50 - Train Loss: 0.6716 - Val Loss: 0.6764\n",
            "Epoch 18/50 - Train Loss: 0.6714 - Val Loss: 0.6726\n",
            "Epoch 19/50 - Train Loss: 0.6684 - Val Loss: 0.6634\n",
            "Epoch 20/50 - Train Loss: 0.6653 - Val Loss: 0.6601\n",
            "Epoch 21/50 - Train Loss: 0.6625 - Val Loss: 0.6620\n",
            "Epoch 22/50 - Train Loss: 0.6592 - Val Loss: 0.6631\n",
            "Epoch 23/50 - Train Loss: 0.6523 - Val Loss: 0.6595\n",
            "Epoch 24/50 - Train Loss: 0.6513 - Val Loss: 0.6487\n",
            "Epoch 25/50 - Train Loss: 0.6520 - Val Loss: 0.6484\n",
            "Epoch 26/50 - Train Loss: 0.6471 - Val Loss: 0.6467\n",
            "Epoch 27/50 - Train Loss: 0.6431 - Val Loss: 0.6416\n",
            "Epoch 28/50 - Train Loss: 0.6349 - Val Loss: 0.6427\n",
            "Epoch 29/50 - Train Loss: 0.6353 - Val Loss: 0.6407\n",
            "Epoch 30/50 - Train Loss: 0.6305 - Val Loss: 0.6375\n",
            "Epoch 31/50 - Train Loss: 0.6304 - Val Loss: 0.6308\n",
            "Epoch 32/50 - Train Loss: 0.6278 - Val Loss: 0.6270\n",
            "Epoch 33/50 - Train Loss: 0.6316 - Val Loss: 0.6396\n",
            "Epoch 34/50 - Train Loss: 0.6202 - Val Loss: 0.6308\n",
            "Epoch 35/50 - Train Loss: 0.6175 - Val Loss: 0.6231\n",
            "Epoch 36/50 - Train Loss: 0.6101 - Val Loss: 0.6669\n",
            "Epoch 37/50 - Train Loss: 0.6296 - Val Loss: 0.6115\n",
            "Epoch 38/50 - Train Loss: 0.6118 - Val Loss: 0.6312\n",
            "Epoch 39/50 - Train Loss: 0.6144 - Val Loss: 0.6171\n",
            "Epoch 40/50 - Train Loss: 0.6082 - Val Loss: 0.6394\n",
            "Epoch 41/50 - Train Loss: 0.5996 - Val Loss: 0.6247\n",
            "Epoch 42/50 - Train Loss: 0.6027 - Val Loss: 0.6211\n",
            "Epoch 43/50 - Train Loss: 0.6054 - Val Loss: 0.6048\n",
            "Epoch 44/50 - Train Loss: 0.5953 - Val Loss: 0.6194\n",
            "Epoch 45/50 - Train Loss: 0.6062 - Val Loss: 0.6363\n",
            "Epoch 46/50 - Train Loss: 0.5987 - Val Loss: 0.6046\n",
            "Epoch 47/50 - Train Loss: 0.5890 - Val Loss: 0.5877\n",
            "Epoch 48/50 - Train Loss: 0.5981 - Val Loss: 0.6020\n",
            "Epoch 49/50 - Train Loss: 0.5952 - Val Loss: 0.5926\n",
            "Epoch 50/50 - Train Loss: 0.5949 - Val Loss: 0.5955\n",
            "Final Test Loss: 0.5613, Test Accuracy: 0.7250\n",
            "Best Hyperparameters: {'dropout': 0.5, 'hidden_dim': 64, 'learning_rate': 0.001, 'num_layers': 2}\n"
          ]
        }
      ]
    },
    {
      "cell_type": "markdown",
      "source": [
        "## Train the Model\n",
        "The model is now fixed in terms of hyperparameters and will be trained using the union of the training and validation sets.\n",
        "\n",
        "Best Hyperparameters: \\{'dropout': 0.5, 'hidden_dim': 64, 'learning_rate': 0.001, 'num_layers': 2}"
      ],
      "metadata": {
        "id": "UnFeMvWopDAk"
      }
    },
    {
      "cell_type": "code",
      "source": [
        "device = torch.device(\"cuda\" if torch.cuda.is_available() else \"cpu\")\n",
        "\n",
        "model = GCNClassifier(\n",
        "            hidden_dim=28,\n",
        "            num_layers=2,\n",
        "            dropout=0.5,\n",
        "            activation=F.relu\n",
        "        ).to(device)\n",
        "\n",
        "optimizer = torch.optim.Adam(model.parameters(), lr=0.001)\n",
        "criterion = torch.nn.BCEWithLogitsLoss()\n"
      ],
      "metadata": {
        "id": "b6dJL0nnpEpm"
      },
      "execution_count": 46,
      "outputs": []
    },
    {
      "cell_type": "code",
      "source": [
        "combined_data = train_data + val_data\n",
        "combined_loader = DataLoader(combined_data, batch_size=32, shuffle=True)"
      ],
      "metadata": {
        "id": "K8vWGiSaQg0E"
      },
      "execution_count": 47,
      "outputs": []
    },
    {
      "cell_type": "code",
      "source": [
        "model = train(model, combined_loader, test_loader, optimizer, criterion, device, patience=10)"
      ],
      "metadata": {
        "colab": {
          "base_uri": "https://localhost:8080/"
        },
        "id": "9CMCcL0FQDaO",
        "outputId": "0868e7d8-fe75-4e10-cba3-4500bfe81e73"
      },
      "execution_count": 48,
      "outputs": [
        {
          "output_type": "stream",
          "name": "stdout",
          "text": [
            "Epoch 1/100 - Train Loss: 0.6938 - Val Loss: 0.6897\n",
            "Epoch 2/100 - Train Loss: 0.6918 - Val Loss: 0.6897\n",
            "Epoch 3/100 - Train Loss: 0.6903 - Val Loss: 0.6875\n",
            "Epoch 4/100 - Train Loss: 0.6891 - Val Loss: 0.6875\n",
            "Epoch 5/100 - Train Loss: 0.6869 - Val Loss: 0.6840\n",
            "Epoch 6/100 - Train Loss: 0.6893 - Val Loss: 0.6857\n",
            "Epoch 7/100 - Train Loss: 0.6871 - Val Loss: 0.6877\n",
            "Epoch 8/100 - Train Loss: 0.6839 - Val Loss: 0.6844\n",
            "Epoch 9/100 - Train Loss: 0.6831 - Val Loss: 0.6836\n",
            "Epoch 10/100 - Train Loss: 0.6839 - Val Loss: 0.6845\n",
            "Epoch 11/100 - Train Loss: 0.6823 - Val Loss: 0.6827\n",
            "Epoch 12/100 - Train Loss: 0.6827 - Val Loss: 0.6794\n",
            "Epoch 13/100 - Train Loss: 0.6790 - Val Loss: 0.6822\n",
            "Epoch 14/100 - Train Loss: 0.6785 - Val Loss: 0.6875\n",
            "Epoch 15/100 - Train Loss: 0.6774 - Val Loss: 0.6751\n",
            "Epoch 16/100 - Train Loss: 0.6766 - Val Loss: 0.6711\n",
            "Epoch 17/100 - Train Loss: 0.6750 - Val Loss: 0.6766\n",
            "Epoch 18/100 - Train Loss: 0.6739 - Val Loss: 0.6735\n",
            "Epoch 19/100 - Train Loss: 0.6694 - Val Loss: 0.6647\n",
            "Epoch 20/100 - Train Loss: 0.6701 - Val Loss: 0.6635\n",
            "Epoch 21/100 - Train Loss: 0.6661 - Val Loss: 0.6652\n",
            "Epoch 22/100 - Train Loss: 0.6671 - Val Loss: 0.6611\n",
            "Epoch 23/100 - Train Loss: 0.6651 - Val Loss: 0.6589\n",
            "Epoch 24/100 - Train Loss: 0.6639 - Val Loss: 0.6617\n",
            "Epoch 25/100 - Train Loss: 0.6605 - Val Loss: 0.6593\n",
            "Epoch 26/100 - Train Loss: 0.6638 - Val Loss: 0.6548\n",
            "Epoch 27/100 - Train Loss: 0.6546 - Val Loss: 0.6497\n",
            "Epoch 28/100 - Train Loss: 0.6504 - Val Loss: 0.6538\n",
            "Epoch 29/100 - Train Loss: 0.6494 - Val Loss: 0.6431\n",
            "Epoch 30/100 - Train Loss: 0.6445 - Val Loss: 0.6578\n",
            "Epoch 31/100 - Train Loss: 0.6518 - Val Loss: 0.6433\n",
            "Epoch 32/100 - Train Loss: 0.6430 - Val Loss: 0.6524\n",
            "Epoch 33/100 - Train Loss: 0.6475 - Val Loss: 0.6498\n",
            "Epoch 34/100 - Train Loss: 0.6415 - Val Loss: 0.6422\n",
            "Epoch 35/100 - Train Loss: 0.6396 - Val Loss: 0.6333\n",
            "Epoch 36/100 - Train Loss: 0.6379 - Val Loss: 0.6361\n",
            "Epoch 37/100 - Train Loss: 0.6343 - Val Loss: 0.6381\n",
            "Epoch 38/100 - Train Loss: 0.6323 - Val Loss: 0.6325\n",
            "Epoch 39/100 - Train Loss: 0.6339 - Val Loss: 0.6281\n",
            "Epoch 40/100 - Train Loss: 0.6282 - Val Loss: 0.6305\n",
            "Epoch 41/100 - Train Loss: 0.6292 - Val Loss: 0.6337\n",
            "Epoch 42/100 - Train Loss: 0.6236 - Val Loss: 0.6365\n",
            "Epoch 43/100 - Train Loss: 0.6250 - Val Loss: 0.6316\n",
            "Epoch 44/100 - Train Loss: 0.6243 - Val Loss: 0.6279\n",
            "Epoch 45/100 - Train Loss: 0.6280 - Val Loss: 0.6114\n",
            "Epoch 46/100 - Train Loss: 0.6283 - Val Loss: 0.6222\n",
            "Epoch 47/100 - Train Loss: 0.6200 - Val Loss: 0.6127\n",
            "Epoch 48/100 - Train Loss: 0.6183 - Val Loss: 0.6173\n",
            "Epoch 49/100 - Train Loss: 0.6177 - Val Loss: 0.6068\n",
            "Epoch 50/100 - Train Loss: 0.6235 - Val Loss: 0.6175\n",
            "Epoch 51/100 - Train Loss: 0.6229 - Val Loss: 0.6146\n",
            "Epoch 52/100 - Train Loss: 0.6170 - Val Loss: 0.6180\n",
            "Epoch 53/100 - Train Loss: 0.6186 - Val Loss: 0.6104\n",
            "Epoch 54/100 - Train Loss: 0.6127 - Val Loss: 0.6133\n",
            "Epoch 55/100 - Train Loss: 0.6105 - Val Loss: 0.6177\n",
            "Epoch 56/100 - Train Loss: 0.6081 - Val Loss: 0.6049\n",
            "Epoch 57/100 - Train Loss: 0.6146 - Val Loss: 0.6155\n",
            "Epoch 58/100 - Train Loss: 0.6117 - Val Loss: 0.6178\n",
            "Epoch 59/100 - Train Loss: 0.6073 - Val Loss: 0.6105\n",
            "Epoch 60/100 - Train Loss: 0.6042 - Val Loss: 0.5977\n",
            "Epoch 61/100 - Train Loss: 0.6000 - Val Loss: 0.6092\n",
            "Epoch 62/100 - Train Loss: 0.6048 - Val Loss: 0.6091\n",
            "Epoch 63/100 - Train Loss: 0.6044 - Val Loss: 0.6061\n",
            "Epoch 64/100 - Train Loss: 0.6080 - Val Loss: 0.6036\n",
            "Epoch 65/100 - Train Loss: 0.6090 - Val Loss: 0.6042\n",
            "Epoch 66/100 - Train Loss: 0.6043 - Val Loss: 0.6142\n",
            "Epoch 67/100 - Train Loss: 0.6067 - Val Loss: 0.5962\n",
            "Epoch 68/100 - Train Loss: 0.6071 - Val Loss: 0.6190\n",
            "Epoch 69/100 - Train Loss: 0.5965 - Val Loss: 0.6064\n",
            "Epoch 70/100 - Train Loss: 0.6007 - Val Loss: 0.6307\n",
            "Epoch 71/100 - Train Loss: 0.6041 - Val Loss: 0.5942\n",
            "Epoch 72/100 - Train Loss: 0.5982 - Val Loss: 0.6251\n",
            "Epoch 73/100 - Train Loss: 0.6038 - Val Loss: 0.6119\n",
            "Epoch 74/100 - Train Loss: 0.6029 - Val Loss: 0.6119\n",
            "Epoch 75/100 - Train Loss: 0.6039 - Val Loss: 0.6018\n",
            "Epoch 76/100 - Train Loss: 0.6001 - Val Loss: 0.6170\n",
            "Epoch 77/100 - Train Loss: 0.6140 - Val Loss: 0.6243\n",
            "Epoch 78/100 - Train Loss: 0.6107 - Val Loss: 0.5906\n",
            "Epoch 79/100 - Train Loss: 0.5904 - Val Loss: 0.6112\n",
            "Epoch 80/100 - Train Loss: 0.5964 - Val Loss: 0.6223\n",
            "Epoch 81/100 - Train Loss: 0.6014 - Val Loss: 0.6126\n",
            "Epoch 82/100 - Train Loss: 0.5923 - Val Loss: 0.5973\n",
            "Epoch 83/100 - Train Loss: 0.5942 - Val Loss: 0.5925\n",
            "Epoch 84/100 - Train Loss: 0.6019 - Val Loss: 0.6124\n",
            "Epoch 85/100 - Train Loss: 0.5939 - Val Loss: 0.6000\n",
            "Epoch 86/100 - Train Loss: 0.5865 - Val Loss: 0.6046\n",
            "Epoch 87/100 - Train Loss: 0.5980 - Val Loss: 0.5939\n",
            "Early stopping triggered after 88 epochs\n"
          ]
        }
      ]
    },
    {
      "cell_type": "markdown",
      "source": [
        "## Evaluate the Model\n",
        "The performance of the model is tested by evaluating the classificaiton accuracy of the trained model on the test dataset, which the model has never seen before."
      ],
      "metadata": {
        "id": "0OgSZYo5pJAi"
      }
    },
    {
      "cell_type": "code",
      "source": [
        "test_loss, test_accuracy = evaluate(model, test_loader, criterion, device)\n",
        "print(f\"Final Test Loss: {test_loss:.4f}, Test Accuracy: {test_accuracy:.4f}\")"
      ],
      "metadata": {
        "id": "IU2c_LeypJ1H",
        "colab": {
          "base_uri": "https://localhost:8080/"
        },
        "outputId": "c24c0099-d0af-4f41-9d20-224359d20ed2"
      },
      "execution_count": 49,
      "outputs": [
        {
          "output_type": "stream",
          "name": "stdout",
          "text": [
            "Final Test Loss: 0.5926, Test Accuracy: 0.6950\n"
          ]
        }
      ]
    },
    {
      "cell_type": "code",
      "source": [],
      "metadata": {
        "id": "YW_O9l1EV64B"
      },
      "execution_count": null,
      "outputs": []
    }
  ]
}