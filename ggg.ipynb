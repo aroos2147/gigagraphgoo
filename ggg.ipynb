{
  "nbformat": 4,
  "nbformat_minor": 0,
  "metadata": {
    "colab": {
      "provenance": [],
      "gpuType": "V28",
      "authorship_tag": "ABX9TyPCPVMtqSzycPcHJ8i4TzPV",
      "include_colab_link": true
    },
    "kernelspec": {
      "name": "python3",
      "display_name": "Python 3"
    },
    "language_info": {
      "name": "python"
    },
    "accelerator": "TPU"
  },
  "cells": [
    {
      "cell_type": "markdown",
      "metadata": {
        "id": "view-in-github",
        "colab_type": "text"
      },
      "source": [
        "<a href=\"https://colab.research.google.com/github/aroos2147/gigagraphgoo/blob/main/ggg.ipynb\" target=\"_parent\"><img src=\"https://colab.research.google.com/assets/colab-badge.svg\" alt=\"Open In Colab\"/></a>"
      ]
    },
    {
      "cell_type": "markdown",
      "source": [
        "# Giga Graph Goo"
      ],
      "metadata": {
        "id": "KpG2a_VCA1TG"
      }
    },
    {
      "cell_type": "markdown",
      "source": [
        "## Setup\n",
        "In this section we prepare the environment by installing the necessary packages and importing the required libraries"
      ],
      "metadata": {
        "id": "HgVj3GF9A4LC"
      }
    },
    {
      "cell_type": "code",
      "source": [
        "# Dependencies\n",
        "!pip install torch_geometric\n",
        "!pip install rdkit"
      ],
      "metadata": {
        "colab": {
          "base_uri": "https://localhost:8080/"
        },
        "id": "WAXCDWoY2nWo",
        "outputId": "1ab71d3c-9ee7-48b6-a954-aea79c3beeb7"
      },
      "execution_count": 1,
      "outputs": [
        {
          "output_type": "stream",
          "name": "stdout",
          "text": [
            "Collecting torch_geometric\n",
            "  Downloading torch_geometric-2.6.1-py3-none-any.whl.metadata (63 kB)\n",
            "\u001b[?25l     \u001b[90m━━━━━━━━━━━━━━━━━━━━━━━━━━━━━━━━━━━━━━━━\u001b[0m \u001b[32m0.0/63.1 kB\u001b[0m \u001b[31m?\u001b[0m eta \u001b[36m-:--:--\u001b[0m\r\u001b[2K     \u001b[90m━━━━━━━━━━━━━━━━━━━━━━━━━━━━━━━━━━━━━━━━\u001b[0m \u001b[32m63.1/63.1 kB\u001b[0m \u001b[31m1.9 MB/s\u001b[0m eta \u001b[36m0:00:00\u001b[0m\n",
            "\u001b[?25hCollecting aiohttp (from torch_geometric)\n",
            "  Downloading aiohttp-3.11.9-cp310-cp310-manylinux_2_17_x86_64.manylinux2014_x86_64.whl.metadata (7.7 kB)\n",
            "Requirement already satisfied: fsspec in /usr/local/lib/python3.10/dist-packages (from torch_geometric) (2024.10.0)\n",
            "Requirement already satisfied: jinja2 in /usr/local/lib/python3.10/dist-packages (from torch_geometric) (3.1.4)\n",
            "Requirement already satisfied: numpy in /usr/local/lib/python3.10/dist-packages (from torch_geometric) (1.26.4)\n",
            "Requirement already satisfied: psutil>=5.8.0 in /usr/local/lib/python3.10/dist-packages (from torch_geometric) (5.9.5)\n",
            "Requirement already satisfied: pyparsing in /usr/local/lib/python3.10/dist-packages (from torch_geometric) (3.2.0)\n",
            "Requirement already satisfied: requests in /usr/local/lib/python3.10/dist-packages (from torch_geometric) (2.32.3)\n",
            "Requirement already satisfied: tqdm in /usr/local/lib/python3.10/dist-packages (from torch_geometric) (4.66.6)\n",
            "Collecting aiohappyeyeballs>=2.3.0 (from aiohttp->torch_geometric)\n",
            "  Downloading aiohappyeyeballs-2.4.4-py3-none-any.whl.metadata (6.1 kB)\n",
            "Collecting aiosignal>=1.1.2 (from aiohttp->torch_geometric)\n",
            "  Downloading aiosignal-1.3.1-py3-none-any.whl.metadata (4.0 kB)\n",
            "Collecting async-timeout<6.0,>=4.0 (from aiohttp->torch_geometric)\n",
            "  Downloading async_timeout-5.0.1-py3-none-any.whl.metadata (5.1 kB)\n",
            "Requirement already satisfied: attrs>=17.3.0 in /usr/local/lib/python3.10/dist-packages (from aiohttp->torch_geometric) (24.2.0)\n",
            "Collecting frozenlist>=1.1.1 (from aiohttp->torch_geometric)\n",
            "  Downloading frozenlist-1.5.0-cp310-cp310-manylinux_2_5_x86_64.manylinux1_x86_64.manylinux_2_17_x86_64.manylinux2014_x86_64.whl.metadata (13 kB)\n",
            "Collecting multidict<7.0,>=4.5 (from aiohttp->torch_geometric)\n",
            "  Downloading multidict-6.1.0-cp310-cp310-manylinux_2_17_x86_64.manylinux2014_x86_64.whl.metadata (5.0 kB)\n",
            "Collecting propcache>=0.2.0 (from aiohttp->torch_geometric)\n",
            "  Downloading propcache-0.2.1-cp310-cp310-manylinux_2_17_x86_64.manylinux2014_x86_64.whl.metadata (9.2 kB)\n",
            "Collecting yarl<2.0,>=1.17.0 (from aiohttp->torch_geometric)\n",
            "  Downloading yarl-1.18.3-cp310-cp310-manylinux_2_17_x86_64.manylinux2014_x86_64.whl.metadata (69 kB)\n",
            "\u001b[2K     \u001b[90m━━━━━━━━━━━━━━━━━━━━━━━━━━━━━━━━━━━━━━━━\u001b[0m \u001b[32m69.2/69.2 kB\u001b[0m \u001b[31m3.0 MB/s\u001b[0m eta \u001b[36m0:00:00\u001b[0m\n",
            "\u001b[?25hRequirement already satisfied: MarkupSafe>=2.0 in /usr/local/lib/python3.10/dist-packages (from jinja2->torch_geometric) (3.0.2)\n",
            "Requirement already satisfied: charset-normalizer<4,>=2 in /usr/local/lib/python3.10/dist-packages (from requests->torch_geometric) (3.4.0)\n",
            "Requirement already satisfied: idna<4,>=2.5 in /usr/local/lib/python3.10/dist-packages (from requests->torch_geometric) (3.10)\n",
            "Requirement already satisfied: urllib3<3,>=1.21.1 in /usr/local/lib/python3.10/dist-packages (from requests->torch_geometric) (2.2.3)\n",
            "Requirement already satisfied: certifi>=2017.4.17 in /usr/local/lib/python3.10/dist-packages (from requests->torch_geometric) (2024.8.30)\n",
            "Requirement already satisfied: typing-extensions>=4.1.0 in /usr/local/lib/python3.10/dist-packages (from multidict<7.0,>=4.5->aiohttp->torch_geometric) (4.12.2)\n",
            "Downloading torch_geometric-2.6.1-py3-none-any.whl (1.1 MB)\n",
            "\u001b[2K   \u001b[90m━━━━━━━━━━━━━━━━━━━━━━━━━━━━━━━━━━━━━━━━\u001b[0m \u001b[32m1.1/1.1 MB\u001b[0m \u001b[31m22.1 MB/s\u001b[0m eta \u001b[36m0:00:00\u001b[0m\n",
            "\u001b[?25hDownloading aiohttp-3.11.9-cp310-cp310-manylinux_2_17_x86_64.manylinux2014_x86_64.whl (1.6 MB)\n",
            "\u001b[2K   \u001b[90m━━━━━━━━━━━━━━━━━━━━━━━━━━━━━━━━━━━━━━━━\u001b[0m \u001b[32m1.6/1.6 MB\u001b[0m \u001b[31m55.3 MB/s\u001b[0m eta \u001b[36m0:00:00\u001b[0m\n",
            "\u001b[?25hDownloading aiohappyeyeballs-2.4.4-py3-none-any.whl (14 kB)\n",
            "Downloading aiosignal-1.3.1-py3-none-any.whl (7.6 kB)\n",
            "Downloading async_timeout-5.0.1-py3-none-any.whl (6.2 kB)\n",
            "Downloading frozenlist-1.5.0-cp310-cp310-manylinux_2_5_x86_64.manylinux1_x86_64.manylinux_2_17_x86_64.manylinux2014_x86_64.whl (241 kB)\n",
            "\u001b[2K   \u001b[90m━━━━━━━━━━━━━━━━━━━━━━━━━━━━━━━━━━━━━━━━\u001b[0m \u001b[32m241.9/241.9 kB\u001b[0m \u001b[31m16.8 MB/s\u001b[0m eta \u001b[36m0:00:00\u001b[0m\n",
            "\u001b[?25hDownloading multidict-6.1.0-cp310-cp310-manylinux_2_17_x86_64.manylinux2014_x86_64.whl (124 kB)\n",
            "\u001b[2K   \u001b[90m━━━━━━━━━━━━━━━━━━━━━━━━━━━━━━━━━━━━━━━━\u001b[0m \u001b[32m124.6/124.6 kB\u001b[0m \u001b[31m8.0 MB/s\u001b[0m eta \u001b[36m0:00:00\u001b[0m\n",
            "\u001b[?25hDownloading propcache-0.2.1-cp310-cp310-manylinux_2_17_x86_64.manylinux2014_x86_64.whl (205 kB)\n",
            "\u001b[2K   \u001b[90m━━━━━━━━━━━━━━━━━━━━━━━━━━━━━━━━━━━━━━━━\u001b[0m \u001b[32m205.1/205.1 kB\u001b[0m \u001b[31m15.7 MB/s\u001b[0m eta \u001b[36m0:00:00\u001b[0m\n",
            "\u001b[?25hDownloading yarl-1.18.3-cp310-cp310-manylinux_2_17_x86_64.manylinux2014_x86_64.whl (319 kB)\n",
            "\u001b[2K   \u001b[90m━━━━━━━━━━━━━━━━━━━━━━━━━━━━━━━━━━━━━━━━\u001b[0m \u001b[32m319.7/319.7 kB\u001b[0m \u001b[31m23.4 MB/s\u001b[0m eta \u001b[36m0:00:00\u001b[0m\n",
            "\u001b[?25hInstalling collected packages: propcache, multidict, frozenlist, async-timeout, aiohappyeyeballs, yarl, aiosignal, aiohttp, torch_geometric\n",
            "Successfully installed aiohappyeyeballs-2.4.4 aiohttp-3.11.9 aiosignal-1.3.1 async-timeout-5.0.1 frozenlist-1.5.0 multidict-6.1.0 propcache-0.2.1 torch_geometric-2.6.1 yarl-1.18.3\n",
            "Collecting rdkit\n",
            "  Downloading rdkit-2024.3.6-cp310-cp310-manylinux_2_28_x86_64.whl.metadata (4.0 kB)\n",
            "Requirement already satisfied: numpy in /usr/local/lib/python3.10/dist-packages (from rdkit) (1.26.4)\n",
            "Requirement already satisfied: Pillow in /usr/local/lib/python3.10/dist-packages (from rdkit) (11.0.0)\n",
            "Downloading rdkit-2024.3.6-cp310-cp310-manylinux_2_28_x86_64.whl (32.8 MB)\n",
            "\u001b[2K   \u001b[90m━━━━━━━━━━━━━━━━━━━━━━━━━━━━━━━━━━━━━━━━\u001b[0m \u001b[32m32.8/32.8 MB\u001b[0m \u001b[31m47.0 MB/s\u001b[0m eta \u001b[36m0:00:00\u001b[0m\n",
            "\u001b[?25hInstalling collected packages: rdkit\n",
            "Successfully installed rdkit-2024.3.6\n"
          ]
        }
      ]
    },
    {
      "cell_type": "code",
      "source": [
        "# Imports\n",
        "import torch\n",
        "from torch_geometric.data import DataLoader\n",
        "from torch_geometric.nn import GCNConv, global_mean_pool\n",
        "import torch.nn.functional as F\n",
        "import torch.nn as nn\n",
        "import pandas as pd\n",
        "import random as rd\n",
        "import os\n",
        "from rdkit import Chem\n",
        "from rdkit.Chem import rdmolops\n",
        "from google.colab import drive\n",
        "from torch_geometric.loader import DataLoader\n",
        "from torch_geometric.data import Data\n",
        "from sklearn.model_selection import ParameterGrid\n"
      ],
      "metadata": {
        "id": "zC5gqtR52z96"
      },
      "execution_count": 2,
      "outputs": []
    },
    {
      "cell_type": "markdown",
      "source": [
        "## Get the data\n",
        "We will be working with a subset of the Malnet dataset. The subset consists of the function call graphs of benign android applications and of android applications associated with the Artemis trojan. The data is stored on a private google drive."
      ],
      "metadata": {
        "id": "IgS2T0yeAa9X"
      }
    },
    {
      "cell_type": "code",
      "source": [
        "drive.mount('/content/drive')"
      ],
      "metadata": {
        "colab": {
          "base_uri": "https://localhost:8080/"
        },
        "id": "rolW-JqwgbNA",
        "outputId": "7d5110e8-4297-4439-d2f4-ecf88415f1dc"
      },
      "execution_count": 3,
      "outputs": [
        {
          "output_type": "stream",
          "name": "stdout",
          "text": [
            "Mounted at /content/drive\n"
          ]
        }
      ]
    },
    {
      "cell_type": "code",
      "source": [
        "def read_edgelist_to_graph(filepath, label):\n",
        "    try:\n",
        "        edge_index = []\n",
        "        with open(filepath, 'r') as f:\n",
        "            for line in f:\n",
        "                if line.startswith('#'):\n",
        "                    continue\n",
        "                source, target = map(int, line.strip().split())\n",
        "                edge_index.append([source, target])\n",
        "\n",
        "        edge_index = torch.tensor(edge_index, dtype=torch.long).t().contiguous()\n",
        "        x = torch.ones(edge_index.max().item() + 1, 1, dtype=torch.float)\n",
        "        data = Data(x=x, edge_index=edge_index, y=torch.tensor([label]))\n",
        "        return data\n",
        "    except Exception as e:\n",
        "        print(f\"Error reading file {filepath}: {e}\")\n",
        "        return None\n",
        "\n",
        "benign_dir = '/content/drive/My Drive/malnet/benign/'\n",
        "artemis_dir = '/content/drive/My Drive/malnet/artemis/'\n",
        "\n",
        "data_list = []\n",
        "\n",
        "# Load graphs from the 'benign' directory\n",
        "for filename in os.listdir(benign_dir):\n",
        "    if filename.endswith(\".edgelist\"):\n",
        "        filepath = os.path.join(benign_dir, filename)\n",
        "        # label 0 is non malicious\n",
        "        graph_data = read_edgelist_to_graph(filepath, 0)\n",
        "        if graph_data:\n",
        "            data_list.append(graph_data)\n",
        "\n",
        "# Load graphs from the 'artemis' directory\n",
        "for filename in os.listdir(artemis_dir):\n",
        "    if filename.endswith(\".edgelist\"):\n",
        "        filepath = os.path.join(artemis_dir, filename)\n",
        "        # label 1 is malicious\n",
        "        graph_data = read_edgelist_to_graph(filepath, 1)\n",
        "        if graph_data:\n",
        "            data_list.append(graph_data)\n",
        "\n",
        "print(f\"Loaded {len(data_list)} graphs.\")"
      ],
      "metadata": {
        "colab": {
          "base_uri": "https://localhost:8080/"
        },
        "id": "2YUi2hlFfPtu",
        "outputId": "821c185e-c5fd-442f-bce9-518c0f35e017"
      },
      "execution_count": 4,
      "outputs": [
        {
          "output_type": "stream",
          "name": "stdout",
          "text": [
            "Loaded 2000 graphs.\n"
          ]
        }
      ]
    },
    {
      "cell_type": "markdown",
      "source": [
        "## Prepare the data\n",
        "The data is being shuffeled and split into suitable train, validate and test splits which are used in preparing, training and evaluating the performance of the model."
      ],
      "metadata": {
        "id": "C8Q8p6yWo6V-"
      }
    },
    {
      "cell_type": "code",
      "source": [
        "# Shuffle the data list\n",
        "rd.shuffle(data_list)\n",
        "\n",
        "# Define the split ratios\n",
        "train_ratio = 0.8\n",
        "val_ratio = 0.1\n",
        "test_ratio = 0.1\n",
        "\n",
        "# Calculate the split indices\n",
        "train_size = int(len(data_list) * train_ratio)\n",
        "val_size = int(len(data_list) * val_ratio)\n",
        "test_size = len(data_list) - train_size - val_size\n",
        "\n",
        "# Split the data\n",
        "train_data = data_list[:train_size]\n",
        "val_data = data_list[train_size:train_size + val_size]\n",
        "test_data = data_list[train_size + val_size:]\n",
        "\n",
        "# Create data loaders\n",
        "train_loader = DataLoader(train_data, batch_size=32, shuffle=True)\n",
        "val_loader = DataLoader(val_data, batch_size=32, shuffle=False)\n",
        "test_loader = DataLoader(test_data, batch_size=32, shuffle=False)\n",
        "\n",
        "print(f\"Train size: {len(train_data)}\")\n",
        "print(f\"Validation size: {len(val_data)}\")\n",
        "print(f\"Test size: {len(test_data)}\")"
      ],
      "metadata": {
        "colab": {
          "base_uri": "https://localhost:8080/"
        },
        "id": "WDg7FIvBoAJ2",
        "outputId": "fb3587af-5b8c-4dac-c7e5-ff79e55934b5"
      },
      "execution_count": 5,
      "outputs": [
        {
          "output_type": "stream",
          "name": "stdout",
          "text": [
            "Train size: 1600\n",
            "Validation size: 200\n",
            "Test size: 200\n"
          ]
        }
      ]
    },
    {
      "cell_type": "markdown",
      "source": [
        "## Define a Model\n",
        "In the following we define a generic graph convolutional network, the hyperparameters of which are parameterized in the constructor. This allows us to perform a grid search over a wide range of hyperparamter options in order to find a good combination for the final model structure. This is done using the training set to train a model for each hyperparameter combination and using the validation set to test the best performing model. The hyperparameter combnation of the best model is then used in training the final classifier."
      ],
      "metadata": {
        "id": "bkRfqkk1pAhp"
      }
    },
    {
      "cell_type": "code",
      "source": [
        "class GCNClassifier(nn.Module):\n",
        "    def __init__(self, hidden_dim, num_layers, dropout, activation=F.relu):\n",
        "        super(GCNClassifier, self).__init__()\n",
        "\n",
        "        self.dropout = dropout\n",
        "        self.activation = activation\n",
        "\n",
        "        # Initialize GCN layers\n",
        "        self.layers = nn.ModuleList()\n",
        "        self.layers.append(GCNConv(hidden_dim, hidden_dim))  # First layer\n",
        "        for _ in range(num_layers - 1):\n",
        "            self.layers.append(GCNConv(hidden_dim, hidden_dim))  # Additional layers\n",
        "\n",
        "        # Output layer\n",
        "        self.fc = nn.Linear(hidden_dim, 1)\n",
        "\n",
        "    def forward(self, edge_index, batch, num_nodes):\n",
        "        node_embeddings = nn.Parameter(torch.randn(num_nodes, self.layers[0].in_channels))  # Size: (num_nodes, hidden_dim)\n",
        "        x = node_embeddings\n",
        "\n",
        "        # Apply GCN layers\n",
        "        for layer in self.layers:\n",
        "            x = layer(x, edge_index)\n",
        "            x = self.activation(x)\n",
        "            x = F.dropout(x, p=self.dropout, training=self.training)\n",
        "\n",
        "        # Apply global mean pooling to get graph-level representation\n",
        "        x = global_mean_pool(x, batch)\n",
        "\n",
        "        # Output layer\n",
        "        x = self.fc(x)\n",
        "        return x"
      ],
      "metadata": {
        "id": "nujGMyE4oz8q"
      },
      "execution_count": 6,
      "outputs": []
    },
    {
      "cell_type": "code",
      "source": [
        "def train(model, train_loader, val_loader, optimizer, criterion, device, patience=10, epochs=100):\n",
        "    model.train()  # Set the model to training mode\n",
        "    total_loss = 0\n",
        "    best_val_loss = float('inf')  # Initialize the best validation loss as infinity\n",
        "    epochs_without_improvement = 0  # Track how many epochs have passed without improvement\n",
        "    best_model_state = None  # To save the best model state\n",
        "\n",
        "    for epoch in range(epochs):\n",
        "        model.train()  # Ensure the model is in training mode\n",
        "        total_loss = 0\n",
        "\n",
        "        for data in train_loader:\n",
        "            data = data.to(device)  # Move the data to the appropriate device (GPU or CPU)\n",
        "            optimizer.zero_grad()  # Zero the gradients before the backward pass\n",
        "\n",
        "            num_nodes = data.num_nodes  # Get the number of nodes in the current graph\n",
        "\n",
        "            # Forward pass\n",
        "            out = model(data.edge_index, data.batch, num_nodes)\n",
        "\n",
        "            # Compute loss (ensure the output is squeezed to match the shape of data.y)\n",
        "            loss = criterion(out.squeeze(), data.y.float().to(device))\n",
        "            loss.backward()  # Backward pass to calculate gradients\n",
        "\n",
        "            optimizer.step()  # Update model parameters\n",
        "\n",
        "            total_loss += loss.item() * data.num_graphs  # Accumulate the loss\n",
        "\n",
        "        avg_train_loss = total_loss / len(train_loader.dataset)  # Compute average loss per graph\n",
        "\n",
        "        # Validation phase\n",
        "        model.eval()  # Set the model to evaluation mode\n",
        "        val_loss = 0\n",
        "        with torch.no_grad():\n",
        "            for data in val_loader:\n",
        "                data = data.to(device)\n",
        "                num_nodes = data.num_nodes  # Get the number of nodes for the validation graph\n",
        "                out = model(data.edge_index, data.batch, num_nodes)\n",
        "                loss = criterion(out.squeeze(), data.y.float().to(device))\n",
        "                val_loss += loss.item() * data.num_graphs\n",
        "\n",
        "        avg_val_loss = val_loss / len(val_loader.dataset)  # Compute average validation loss\n",
        "\n",
        "        # Early Stopping Check\n",
        "        if avg_val_loss < best_val_loss:\n",
        "            best_val_loss = avg_val_loss\n",
        "            epochs_without_improvement = 0\n",
        "            best_model_state = model.state_dict()  # Save the best model state\n",
        "        else:\n",
        "            epochs_without_improvement += 1\n",
        "\n",
        "        # Stop early if no improvement for 'patience' epochs\n",
        "        if epochs_without_improvement >= patience:\n",
        "            print(f\"Early stopping triggered after {epoch + 1} epochs\")\n",
        "            model.load_state_dict(best_model_state)  # Restore the best model state\n",
        "            break\n",
        "\n",
        "        print(f\"Epoch {epoch + 1}/{epochs} - Train Loss: {avg_train_loss:.4f} - Val Loss: {avg_val_loss:.4f}\")\n",
        "\n",
        "    return model"
      ],
      "metadata": {
        "id": "ZL02_kBuDywV"
      },
      "execution_count": 7,
      "outputs": []
    },
    {
      "cell_type": "code",
      "source": [
        "def evaluate(model, data_loader, criterion, device):\n",
        "    model.eval()  # Set the model to evaluation mode\n",
        "    total_loss = 0\n",
        "    correct = 0\n",
        "    total = 0\n",
        "\n",
        "    with torch.no_grad():\n",
        "        for data in data_loader:\n",
        "            data = data.to(device)\n",
        "            num_nodes = data.num_nodes  # Get the number of nodes for the current graph\n",
        "\n",
        "            out = model(data.edge_index, data.batch, num_nodes)\n",
        "            loss = criterion(out.squeeze(), data.y.float().to(device))\n",
        "            total_loss += loss.item() * data.num_graphs  # Accumulate loss\n",
        "\n",
        "            # Binary classification accuracy\n",
        "            pred = torch.sigmoid(out.squeeze()) > 0.5\n",
        "            correct += pred.eq(data.y.to(device)).sum().item()\n",
        "            total += data.num_graphs\n",
        "\n",
        "    avg_loss = total_loss / len(data_loader.dataset)\n",
        "    accuracy = correct / total\n",
        "    return avg_loss, accuracy"
      ],
      "metadata": {
        "id": "7O3tn3OqD76-"
      },
      "execution_count": 8,
      "outputs": []
    },
    {
      "cell_type": "code",
      "source": [
        "def train_model(model, train_loader, val_loader, epochs, learning_rate, dropout, device):\n",
        "    optimizer = torch.optim.Adam(model.parameters(), lr=learning_rate)\n",
        "    criterion = torch.nn.BCEWithLogitsLoss()\n",
        "\n",
        "    model = model.to(device)\n",
        "\n",
        "    for epoch in range(epochs):\n",
        "        train_loss = train(model, train_loader, optimizer, criterion, device)\n",
        "        val_loss, val_accuracy = evaluate(model, val_loader, criterion, device)\n",
        "\n",
        "    test_loss, test_accuracy = evaluate(model, test_loader, criterion, device)\n",
        "    print(f'Validation Loss: {test_loss:.4f}, Validation Accuracy: {test_accuracy:.4f}')"
      ],
      "metadata": {
        "id": "DX9gF5jkE8X_"
      },
      "execution_count": 9,
      "outputs": []
    },
    {
      "cell_type": "code",
      "source": [
        "def grid_search(train_loader, val_loader, test_loader, device, patience=10):\n",
        "    # Define hyperparameter grid\n",
        "    param_grid = {\n",
        "        'hidden_dim': [32, 64, 128],\n",
        "        'num_layers': [2, 3, 4],\n",
        "        'dropout': [0.3, 0.5],\n",
        "        'learning_rate': [0.1, 0.01, 0.001]\n",
        "    }\n",
        "\n",
        "    # Initialize grid search\n",
        "    best_model = None\n",
        "    best_val_loss = float('inf')  # Initialize best validation loss as infinity\n",
        "    best_params = None\n",
        "\n",
        "    # Perform grid search\n",
        "    for params in ParameterGrid(param_grid):\n",
        "        print(f\"Training with parameters: {params}\")\n",
        "\n",
        "        # Initialize the model with the current hyperparameters\n",
        "        model = GCNClassifier(\n",
        "            hidden_dim=params['hidden_dim'],\n",
        "            num_layers=params['num_layers'],\n",
        "            dropout=params['dropout'],\n",
        "            activation=F.relu\n",
        "        ).to(device)\n",
        "\n",
        "        # Optimizer and loss function\n",
        "        optimizer = torch.optim.Adam(model.parameters(), lr=params['learning_rate'])\n",
        "        criterion = torch.nn.BCEWithLogitsLoss()\n",
        "\n",
        "        # Train the model using early stopping with the train and validation sets\n",
        "        model = train(model, train_loader, val_loader, optimizer, criterion, device, patience)\n",
        "\n",
        "        # Evaluate on the validation set\n",
        "        val_loss, _ = evaluate(model, val_loader, criterion, device)\n",
        "\n",
        "        # Save the best model based on validation loss\n",
        "        if val_loss < best_val_loss:\n",
        "            best_val_loss = val_loss\n",
        "            best_model = model\n",
        "            best_params = params\n",
        "\n",
        "    # Final evaluation on the test set using the best model\n",
        "    test_loss, test_accuracy = evaluate(best_model, test_loader, criterion, device)\n",
        "    print(f\"Final Test Loss: {test_loss:.4f}, Test Accuracy: {test_accuracy:.4f}\")\n",
        "\n",
        "    return best_model, best_params"
      ],
      "metadata": {
        "id": "BBsOOIaBFL6z"
      },
      "execution_count": 10,
      "outputs": []
    },
    {
      "cell_type": "code",
      "source": [
        "device = torch.device(\"cuda\" if torch.cuda.is_available() else \"cpu\")\n",
        "\n",
        "best_model, best_params = grid_search(train_loader, val_loader, test_loader, device, patience=10)\n",
        "print(f\"Best Hyperparameters: {best_params}\")\n"
      ],
      "metadata": {
        "colab": {
          "base_uri": "https://localhost:8080/"
        },
        "id": "WqaHEuxzFUbx",
        "outputId": "13f7532d-9bbf-4660-fe4c-45f97179c3d3"
      },
      "execution_count": null,
      "outputs": [
        {
          "output_type": "stream",
          "name": "stdout",
          "text": [
            "Training with parameters: {'dropout': 0.5, 'hidden_dim': 32, 'learning_rate': 0.1, 'num_layers': 3}\n",
            "Epoch 1/100 - Train Loss: 0.7399 - Val Loss: 0.7044\n",
            "Epoch 2/100 - Train Loss: 0.6975 - Val Loss: 0.7004\n",
            "Epoch 3/100 - Train Loss: 0.6950 - Val Loss: 0.6920\n",
            "Epoch 4/100 - Train Loss: 0.6940 - Val Loss: 0.6973\n"
          ]
        }
      ]
    },
    {
      "cell_type": "markdown",
      "source": [
        "## Train the Model\n",
        "The model is now fixed in terms of hyperparameters and will be trained using the union of the training and validation sets."
      ],
      "metadata": {
        "id": "UnFeMvWopDAk"
      }
    },
    {
      "cell_type": "code",
      "source": [],
      "metadata": {
        "id": "b6dJL0nnpEpm"
      },
      "execution_count": null,
      "outputs": []
    },
    {
      "cell_type": "markdown",
      "source": [
        "## Evaluate the Model\n",
        "The performance of the model is tested by evaluating the classificaiton accuracy of the trained model on the test dataset, which the model has never seen before."
      ],
      "metadata": {
        "id": "0OgSZYo5pJAi"
      }
    },
    {
      "cell_type": "code",
      "source": [],
      "metadata": {
        "id": "IU2c_LeypJ1H"
      },
      "execution_count": null,
      "outputs": []
    }
  ]
}